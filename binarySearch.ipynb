{
 "cells": [
  {
   "cell_type": "markdown",
   "metadata": {},
   "source": [
    "## Binary search algorithm"
   ]
  },
  {
   "cell_type": "markdown",
   "metadata": {},
   "source": [
    "### Problem Statement\n",
    "Alice has some cards with numbers written on them. She arranges the cards in decreasing order, and lays them out face down in a sequence on a table. She challenges Bob to pick out the card containing a given number by turning over as few cards as possible. Write a function to help Bob locate the card.\n",
    "\n",
    "### Solution\n",
    "\n",
    "In this case, we can assume the cards as some numbers and will identify the position of the card where it matches our desired result.\n",
    "So, now the problem statement is like this - we need to write a program to find the position of the given number in a list of numbers that are arranged in decreasing order.\n",
    "\n",
    "In this case we can identify the input and ouput as below:\n",
    "\n",
    "Input - A list of numbers sorted in decreasing order (cards) and the number we are trying to find (num).\n",
    "Output - The position of the number provided as input (pos).\n",
    "\n",
    "Let's create a function which will take cards and number as arguments."
   ]
  },
  {
   "cell_type": "code",
   "execution_count": 1,
   "metadata": {},
   "outputs": [],
   "source": [
    "def find_card(cards,num):\n",
    "    pass"
   ]
  },
  {
   "cell_type": "markdown",
   "metadata": {},
   "source": [
    "#### 2. Creating all the possible test cases\n",
    "\n",
    "list down all the possible test cases that we may encounter\n",
    "* If the required number is in the middle position in the list of cards\n",
    "* If the required number is the first element in the list of cards\n",
    "* If the required number is the last element in the list of cards\n",
    "* The list of cards does not contain the required number at all\n",
    "* The list of cards is empty \n",
    "* The list of cards contians repeating numbers\n",
    "* The list of cards contains only one elemnt which is the required number\n",
    "* Multiple occurence of number in the list of cards\n",
    "* The required number is a negative number in the list of cards\n",
    "\n",
    "we will create an empty list first to store all the possible test cases"
   ]
  },
  {
   "cell_type": "code",
   "execution_count": 3,
   "metadata": {},
   "outputs": [],
   "source": [
    "tests =[]"
   ]
  },
  {
   "cell_type": "markdown",
   "metadata": {},
   "source": [
    "Append all the test cases to the list test created above"
   ]
  },
  {
   "cell_type": "code",
   "execution_count": 4,
   "metadata": {},
   "outputs": [
    {
     "name": "stdout",
     "output_type": "stream",
     "text": [
      "[{'input': {'cards': [24, 19, 18, 16, 10, 8, 7, 5, 3], 'num': 10}, 'output': 4}, {'input': {'cards': [19, 18, 16, 13, 12, 9, 7, 4, 2, 1], 'num': 19}, 'output': 0}, {'input': {'cards': [25, 23, 20, 19, 18, 17, 10, 7, 6, 5, 3], 'num': 3}, 'output': 10}, {'input': {'cards': [17, 15, 12, 11, 10, 9, 7, 4], 'num': 1}, 'output': -1}, {'input': {'cards': [], 'num': 4}, 'output': -1}, {'input': {'cards': [10, 9, 7, 7, 7, 7, 7, 5, 4, 3, 2], 'num': 7}, 'output': 2}, {'input': {'cards': [7], 'num': 7}, 'output': 0}, {'input': {'cards': [10, 9, 8, 7, 7, 7, 6, 5, 4, 4, 3], 'num': 6}, 'output': 6}, {'input': {'cards': [8, 7, 6, -1, -2, -3, -4, -7], 'num': -1}, 'output': 3}]\n"
     ]
    }
   ],
   "source": [
    "# num occurs in the middle - test_Case 0\n",
    "tests.clear()\n",
    "\n",
    "tests.append({\n",
    "    'input':{\n",
    "        'cards': [24,19,18,16,10,8,7,5,3],\n",
    "        'num': 10\n",
    "    },\n",
    "    'output': 4\n",
    "})\n",
    "\n",
    "#num is the first element of the card - test_Case 1\n",
    "\n",
    "tests.append({\n",
    "    'input':{\n",
    "        'cards': [19,18,16,13,12,9,7,4,2,1],\n",
    "        'num': 19\n",
    "    },\n",
    "    'output': 0\n",
    "})\n",
    "\n",
    "# num is the last elemnt in the list of cards - test_Case 2\n",
    "\n",
    "tests.append({\n",
    "    'input': {\n",
    "        'cards': [25,23,20,19,18,17,10,7,6,5,3],\n",
    "        'num': 3\n",
    "    },\n",
    "    'output': 10\n",
    "})\n",
    "\n",
    "# num is not in the list of cards at all - test_Case 3\n",
    "\n",
    "tests.append({\n",
    "    'input':{\n",
    "        'cards': [17,15,12,11,10,9,7,4],\n",
    "        'num': 1\n",
    "    },\n",
    "    'output': -1\n",
    "})\n",
    "\n",
    "# list of card is empty - test_Case 4\n",
    "\n",
    "tests.append({\n",
    "    'input':{\n",
    "        'cards': [],\n",
    "        'num': 4\n",
    "    },\n",
    "    'output': -1\n",
    "})\n",
    "\n",
    "# list of cards contain repeating number - test_Case 5\n",
    "\n",
    "tests.append({\n",
    "    'input':{\n",
    "        'cards': [10,9,7,7,7,7,7,5,4,3,2],\n",
    "        'num': 7\n",
    "    },\n",
    "    'output': 2\n",
    "})\n",
    "\n",
    "# the list of card contain only one element which is the erequired number - test_Case 6\n",
    "\n",
    "tests.append({\n",
    "    'input': {\n",
    "        'cards': [7],\n",
    "        'num': 7\n",
    "    },\n",
    "    'output': 0\n",
    "})\n",
    "\n",
    "# Multiple occurence of number in the list of cards - test_Case 7\n",
    "\n",
    "tests.append({\n",
    "    'input':{\n",
    "        'cards': [10,9,8,7,7,7,6,5,4,4,3],\n",
    "        'num': 6        \n",
    "    },\n",
    "    'output': 6\n",
    "})\n",
    "\n",
    "#Required number is a negative number - test_Case 8\n",
    "\n",
    "tests.append({\n",
    "    'input':{\n",
    "        'cards': [8,7, 6,-1,-2,-3,-4,-7],\n",
    "        'num': -1\n",
    "    },\n",
    "    'output': 3\n",
    "})\n",
    "\n",
    "\n",
    "print(tests)"
   ]
  },
  {
   "cell_type": "markdown",
   "metadata": {},
   "source": [
    "#### 3. Preparing the solution for the problem\n",
    "\n",
    "*Binary search algorithm* is a method for finding element in a sorted list by repeatedly dividing the search interval in half until the element is found.\n",
    "\n",
    "We will first prepare the pesudocode on how to procedd with the solution\n",
    "\n",
    "* Find the middle element of the list \n",
    "* If it matches the required number return the middle position as answer\n",
    "* If it is less than the required number then search in the first half of the list\n",
    "* If it is more than the required number then search in the second half of the list\n",
    "* If no more elements remain return -1"
   ]
  },
  {
   "cell_type": "code",
   "execution_count": 7,
   "metadata": {},
   "outputs": [],
   "source": [
    "# creating body of the find_cards function\n",
    "\n",
    "def find_card(cards,num):\n",
    "    low= 0\n",
    "    high= len(cards)-1\n",
    "    \n",
    "    while low <= high:\n",
    "        mid = (high+low)//2\n",
    "        mid_num = cards[mid]\n",
    "\n",
    "        #print(\"high: \",high,\"low: \",low,\"mid: \",mid,\"mid_num: \",mid_num)\n",
    "\n",
    "        if mid_num == num:\n",
    "            return mid\n",
    "        elif mid_num < num:\n",
    "            high = mid-1\n",
    "        elif mid_num > num:\n",
    "            low = mid+1\n",
    "    \n",
    "    return -1"
   ]
  },
  {
   "cell_type": "markdown",
   "metadata": {},
   "source": [
    "#### 4. Verify the function with all the test cases and fix if any bug found\n",
    "\n",
    "Create a function evaluate_test to run all the test cases and check if all the test cases are passed."
   ]
  },
  {
   "cell_type": "code",
   "execution_count": 9,
   "metadata": {},
   "outputs": [
    {
     "name": "stdout",
     "output_type": "stream",
     "text": [
      "Test case  0 Passed\n",
      "Test case  1 Passed\n",
      "Test case  2 Passed\n",
      "Test case  3 Passed\n",
      "Test case  4 Passed\n",
      "Test case  5 Failed\n",
      "Test case  6 Passed\n",
      "Test case  7 Passed\n",
      "Test case  8 Passed\n"
     ]
    }
   ],
   "source": [
    "def evaluate_test(tests):\n",
    "    for i in range(len(tests)):\n",
    "        result = find_card(**tests[i]['input'])\n",
    "\n",
    "        if result == tests[i]['output']:\n",
    "            print('Test case ',i,'Passed')\n",
    "        else:\n",
    "            print('Test case ',i,'Failed')\n",
    "\n",
    "evaluate_test(tests)"
   ]
  },
  {
   "cell_type": "markdown",
   "metadata": {},
   "source": [
    "The 5 test case here failed, let us investigate why it has failed.\n",
    "\n",
    "So, In the 5th test case the card numbers are repeating and as we have mentioned in the function that if number in the mid is same as the required number then it will return the position of that number and will not check further if the same number is occuring multiple times. As per our needs we need the position of the number occuring first in the list of cards, So we need to modify our function to pass the test case.\n",
    "\n",
    "we will define a new function card_location to tackle the issue"
   ]
  },
  {
   "cell_type": "code",
   "execution_count": 18,
   "metadata": {},
   "outputs": [],
   "source": [
    "def card_location(cards,num,mid):\n",
    "\n",
    "    if cards[mid] == num:\n",
    "        if mid-1>=0 and cards[mid-1] == num:\n",
    "            return 'left'\n",
    "        else:\n",
    "            return 'found'\n",
    "    elif cards[mid] < num:\n",
    "        return 'left'\n",
    "    else:\n",
    "        return 'right'\n",
    "\n",
    "def find_card(cards,num):\n",
    "    low=0\n",
    "    high= len(cards)-1\n",
    "\n",
    "    while low<= high:\n",
    "        mid = (high+low)//2\n",
    "        result = card_location(cards,num,mid)\n",
    "\n",
    "        if result == 'found':\n",
    "            return mid\n",
    "        elif result == 'left':\n",
    "            high = mid-1\n",
    "        elif result == 'right':\n",
    "            low = mid+1\n",
    "\n",
    "    return -1\n",
    "\n",
    "\n"
   ]
  },
  {
   "cell_type": "markdown",
   "metadata": {},
   "source": [
    "Now let us evaluate all the test cases "
   ]
  },
  {
   "cell_type": "code",
   "execution_count": 19,
   "metadata": {},
   "outputs": [
    {
     "name": "stdout",
     "output_type": "stream",
     "text": [
      "Test case  0 Passed\n",
      "Test case  1 Passed\n",
      "Test case  2 Passed\n",
      "Test case  3 Passed\n",
      "Test case  4 Passed\n",
      "Test case  5 Passed\n",
      "Test case  6 Passed\n",
      "Test case  7 Passed\n",
      "Test case  8 Passed\n"
     ]
    }
   ],
   "source": [
    "evaluate_test(tests)"
   ]
  },
  {
   "cell_type": "markdown",
   "metadata": {},
   "source": [
    "#### 4. Complexity and Big O Notation\n",
    "\n",
    "Let's observe the number of iteration in the algorithm. At first we are starting out with N elements and after each iteration we are diving the number of elelments by 2 and keep iterating it until we are left with only one element.\n",
    "\n",
    "Intial length = N\n",
    "1st Iteration = N/2\n",
    "2nd Iteration = N/2*2\n",
    "3rd Iteration = N/2*2*2\n",
    "\n",
    "So the we can say the iteration is N/2^k\n",
    "\n",
    "Since the final length of the array would be 1\n",
    "So, N/2^k = 1\n",
    "=> N = 2^k\n",
    "=> log N = k\n",
    "\n",
    "Therefore, our algorithm has time complexity of O(log N) and space coplexity is O(1)"
   ]
  }
 ],
 "metadata": {
  "interpreter": {
   "hash": "767cbb24d09e3de4814983379e18690cf7a73372ae9eec1cb24ba803ecec81da"
  },
  "kernelspec": {
   "display_name": "Python 3.7.3 32-bit",
   "language": "python",
   "name": "python3"
  },
  "language_info": {
   "codemirror_mode": {
    "name": "ipython",
    "version": 3
   },
   "file_extension": ".py",
   "mimetype": "text/x-python",
   "name": "python",
   "nbconvert_exporter": "python",
   "pygments_lexer": "ipython3",
   "version": "3.7.3"
  },
  "orig_nbformat": 4
 },
 "nbformat": 4,
 "nbformat_minor": 2
}
