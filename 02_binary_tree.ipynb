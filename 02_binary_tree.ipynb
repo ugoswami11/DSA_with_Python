{
 "cells": [
  {
   "cell_type": "markdown",
   "metadata": {},
   "source": [
    "# Binary Tree \n",
    "Binary Tree is defined as a Tree data structure with at most 2 children. Since each element in a binary tree can have 0, 1 or 2 children, we typically name them the left and right child.\n",
    "\n",
    "<img src=\"./images/binary_tree_1.0.png\"></img>\n",
    "\n",
    "A tree contains the following terms:\n",
    "- **Root:** The root of a tree is the topmost node of the tree that has no parent node. There is only one root node in every tree.\n",
    "- **Edge:** Edge acts as a link between the parent node and the child node.\n",
    "- **Leaf:** A node that has no child is known as the leaf node. It is the last node of the tree. There can be multiple leaf nodes in a tree.\n",
    "- **Subtree:** The subtree of a node is the tree considering that particular node as the root node.\n",
    "- **Depth:** The depth of the node is the distance from the root node to that particular node.\n",
    "- **Height:** The height of the node is the distance from that node to the deepest node of that subtree.\n",
    "- **Height of tree:** The Height of the tree is the maximum height of any node. This is same as the height of root node\n",
    "\n",
    "## Representation of binary tree\n",
    "A binary tree is represented by a pointer to the topmost node of the tree. If the tree is empty then the value of the root is NULL. A binary tree contains the following parts\n",
    "- Data\n",
    "- Pointer to left child\n",
    "- Pointer to right child\n",
    "\n",
    "## Basic operations on binary tree\n",
    "- Inserting an element \n",
    "- Removing an element \n",
    "- Searching for an element\n",
    "- Traversing an element\n",
    "\n",
    "## Problem statement\n",
    "Implement a binary tree using Python, and show its usage with some examples.\n"
   ]
  },
  {
   "cell_type": "markdown",
   "metadata": {},
   "source": [
    "To begin, we'll create simple binary tree (without any of the additional properties) containing numbers as keys within nodes. Like the below figure\n",
    "\n",
    "<img src=\"./images/binary_tree_1.1.png\"></img>\n",
    "\n",
    "Let's first create a class node that will represent a generic node in the binary tree"
   ]
  },
  {
   "cell_type": "code",
   "execution_count": 1,
   "metadata": {},
   "outputs": [],
   "source": [
    "class TreeNode:\n",
    "\n",
    "    def __init__(self, key):\n",
    "        self.key = key\n",
    "        self.left = None\n",
    "        self.right = None"
   ]
  },
  {
   "cell_type": "markdown",
   "metadata": {},
   "source": [
    "Now let's create an object of TreeNode representing the above tree"
   ]
  },
  {
   "cell_type": "code",
   "execution_count": 6,
   "metadata": {},
   "outputs": [],
   "source": [
    "node0 = TreeNode(1)\n",
    "node1 = TreeNode(2)\n",
    "node2 = TreeNode(3)"
   ]
  },
  {
   "cell_type": "markdown",
   "metadata": {},
   "source": [
    "Let's verify that the objects we created are instance of TreeNode class"
   ]
  },
  {
   "cell_type": "code",
   "execution_count": 3,
   "metadata": {},
   "outputs": [
    {
     "data": {
      "text/plain": [
       "<__main__.TreeNode at 0x28bb9addf30>"
      ]
     },
     "execution_count": 3,
     "metadata": {},
     "output_type": "execute_result"
    }
   ],
   "source": [
    "node0"
   ]
  },
  {
   "cell_type": "markdown",
   "metadata": {},
   "source": [
    "Now let's verify the properties are set for node objects we created"
   ]
  },
  {
   "cell_type": "code",
   "execution_count": 4,
   "metadata": {},
   "outputs": [
    {
     "data": {
      "text/plain": [
       "1"
      ]
     },
     "execution_count": 4,
     "metadata": {},
     "output_type": "execute_result"
    }
   ],
   "source": [
    "node0.key"
   ]
  },
  {
   "cell_type": "code",
   "execution_count": 7,
   "metadata": {},
   "outputs": [],
   "source": [
    "node0.left = node1\n",
    "node0.left = node2"
   ]
  }
 ],
 "metadata": {
  "kernelspec": {
   "display_name": "Python 3.10.4 64-bit",
   "language": "python",
   "name": "python3"
  },
  "language_info": {
   "codemirror_mode": {
    "name": "ipython",
    "version": 3
   },
   "file_extension": ".py",
   "mimetype": "text/x-python",
   "name": "python",
   "nbconvert_exporter": "python",
   "pygments_lexer": "ipython3",
   "version": "3.10.4"
  },
  "orig_nbformat": 4,
  "vscode": {
   "interpreter": {
    "hash": "65d795dd6c2354445d08762cd302ee7a431d595327b303b63df7407dcd8b184f"
   }
  }
 },
 "nbformat": 4,
 "nbformat_minor": 2
}
