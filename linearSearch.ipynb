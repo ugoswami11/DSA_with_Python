{
 "cells": [
  {
   "cell_type": "markdown",
   "metadata": {},
   "source": [
    "## Linear Search Algorithm\n",
    "\n",
    "### Problem Statement\n",
    "Alice has some cards with numbers written on them. She arranges the cards in decreasing order, and lays them out face down in a sequence on a table. She challenges Bob to pick out the card containing a given number by turning over as few cards as possible. Write a function to help Bob locate the card.\n",
    "\n",
    "### Solution\n",
    "\n",
    "#### 1. Identifying input and output formats\n",
    "In this case, we can assume the cards as some numbers and will identify the position of the card where it matches our desired result.\n",
    "So, now the problem statement is like this - we need to write a program to find the position of the given number in a list of numbers that are arranged in decreasing order.\n",
    "\n",
    "In this case we can identify the input and ouput as below:\n",
    "\n",
    "Input - A list of numbers sorted in decreasing order (cards) and the number we are trying to find (num).\n",
    "Output - The position of the number provided as input (pos).\n",
    "\n",
    "Let's create a function which will take cards and number as arguments."
   ]
  },
  {
   "cell_type": "code",
   "execution_count": 1,
   "metadata": {},
   "outputs": [],
   "source": [
    "def find_card(cards,num):\n",
    "    pass"
   ]
  },
  {
   "cell_type": "markdown",
   "metadata": {},
   "source": [
    "#### 2. Creating all the possible test cases\n",
    "\n",
    "list down all the possible test cases that we may encounter\n",
    "* If the required number is in the middle position in the list of cards\n",
    "* If the required number is the first element in the list of cards\n",
    "* If the required number is the last element in the list of cards\n",
    "* The list of cards does not contain the required number at all\n",
    "* The list of cards is empty \n",
    "* The list of cards contians repeating numbers\n",
    "* The list of cards contains only one elemnt which is the required number\n",
    "* Multiple occurence of number in the list of cards\n",
    "* The required number is a negative number in the list of cards\n",
    "\n",
    "we will create an empty list first to store all the possible test cases"
   ]
  },
  {
   "cell_type": "code",
   "execution_count": 1,
   "metadata": {},
   "outputs": [],
   "source": [
    "tests = []\n"
   ]
  },
  {
   "cell_type": "markdown",
   "metadata": {},
   "source": [
    "Append all the test cases to the list tests created above"
   ]
  },
  {
   "cell_type": "code",
   "execution_count": 47,
   "metadata": {},
   "outputs": [
    {
     "name": "stdout",
     "output_type": "stream",
     "text": [
      "[{'input': {'cards': [24, 19, 18, 16, 10, 8, 7, 5, 3], 'num': 10}, 'output': 4}, {'input': {'cards': [19, 18, 16, 13, 12, 9, 7, 4, 2, 1], 'num': 19}, 'output': 0}, {'input': {'cards': [25, 23, 20, 19, 18, 17, 10, 7, 6, 5, 3], 'num': 3}, 'output': 10}, {'input': {'cards': [17, 15, 12, 11, 10, 9, 7, 4], 'num': 1}, 'output': -1}, {'input': {'cards': [], 'num': 4}, 'output': -1}, {'input': {'cards': [10, 9, 7, 7, 7, 7, 7, 5, 4, 3, 2], 'num': 7}, 'output': 2}, {'input': {'cards': [7], 'num': 7}, 'output': 0}, {'input': {'cards': [10, 9, 8, 7, 7, 7, 6, 5, 4, 4, 3], 'num': 6}, 'output': 6}, {'input': {'cards': [8, 7, 6, -1, -2, -3, -4, -7], 'num': -1}, 'output': 3}]\n"
     ]
    }
   ],
   "source": [
    "# num occurs in the middle\n",
    "tests.clear()\n",
    "\n",
    "tests.append({\n",
    "    'input':{\n",
    "        'cards': [24,19,18,16,10,8,7,5,3],\n",
    "        'num': 10\n",
    "    },\n",
    "    'output': 4\n",
    "})\n",
    "\n",
    "#num is the first element of the card\n",
    "\n",
    "tests.append({\n",
    "    'input':{\n",
    "        'cards': [19,18,16,13,12,9,7,4,2,1],\n",
    "        'num': 19\n",
    "    },\n",
    "    'output': 0\n",
    "})\n",
    "\n",
    "# num is the last elemnt in the list of cards\n",
    "\n",
    "tests.append({\n",
    "    'input': {\n",
    "        'cards': [25,23,20,19,18,17,10,7,6,5,3],\n",
    "        'num': 3\n",
    "    },\n",
    "    'output': 10\n",
    "})\n",
    "\n",
    "# num is not in the list of cards at all\n",
    "\n",
    "tests.append({\n",
    "    'input':{\n",
    "        'cards': [17,15,12,11,10,9,7,4],\n",
    "        'num': 1\n",
    "    },\n",
    "    'output': -1\n",
    "})\n",
    "\n",
    "# list of card is empty\n",
    "\n",
    "tests.append({\n",
    "    'input':{\n",
    "        'cards': [],\n",
    "        'num': 4\n",
    "    },\n",
    "    'output': -1\n",
    "})\n",
    "\n",
    "# list of cards contain repeating number\n",
    "\n",
    "tests.append({\n",
    "    'input':{\n",
    "        'cards': [10,9,7,7,7,7,7,5,4,3,2],\n",
    "        'num': 7\n",
    "    },\n",
    "    'output': 2\n",
    "})\n",
    "\n",
    "# the list of card contain only one element which is ht erequired number\n",
    "\n",
    "tests.append({\n",
    "    'input': {\n",
    "        'cards': [7],\n",
    "        'num': 7\n",
    "    },\n",
    "    'output': 0\n",
    "})\n",
    "\n",
    "# Multiple occurence of number in the list of cards\n",
    "\n",
    "tests.append({\n",
    "    'input':{\n",
    "        'cards': [10,9,8,7,7,7,6,5,4,4,3],\n",
    "        'num': 6        \n",
    "    },\n",
    "    'output': 6\n",
    "})\n",
    "\n",
    "#Required number is a negative number\n",
    "\n",
    "tests.append({\n",
    "    'input':{\n",
    "        'cards': [8,7, 6,-1,-2,-3,-4,-7],\n",
    "        'num': -1\n",
    "    },\n",
    "    'output': 3\n",
    "})\n",
    "\n",
    "\n",
    "print(tests)\n"
   ]
  },
  {
   "cell_type": "markdown",
   "metadata": {},
   "source": [
    "#### 3. Preparing the solution for the problem\n",
    "\n",
    "*Linear Search Algorithm* is a method for finding an element within a list by sequentially checking each element on th list until a match is found or th whole list is searched.\n",
    "\n",
    "We will prepare the pseudocode on how to proceed with the solution.\n",
    "* Initialise a variable *pos* with value 0\n",
    "* Chek if the number in index position in card is equal to the required number\n",
    "* If it matches, then position is the answer\n",
    "* If not matches, then increment the value of *pos* by 1 and repeat the steps 2 to 5\n",
    "* if the required number was not found return -1\n",
    "\n"
   ]
  },
  {
   "cell_type": "code",
   "execution_count": 48,
   "metadata": {},
   "outputs": [],
   "source": [
    "# creating the body find_card function\n",
    "\n",
    "def find_card(cards,num):\n",
    "    pos =0\n",
    "\n",
    "    while True:\n",
    "        if cards[pos] == num:\n",
    "            return pos\n",
    "        \n",
    "        pos+=1\n",
    "\n",
    "        if pos==len(cards):\n",
    "            return -1\n"
   ]
  },
  {
   "cell_type": "markdown",
   "metadata": {},
   "source": [
    "#### 4. Verify the function with all the test cases and fix any bug if found\n",
    "\n",
    "Create a function evaluate_test to run all the test cases and check if all test cases are passed."
   ]
  },
  {
   "cell_type": "code",
   "execution_count": 51,
   "metadata": {},
   "outputs": [
    {
     "name": "stdout",
     "output_type": "stream",
     "text": [
      "[24, 19, 18, 16, 10, 8, 7, 5, 3]\n",
      "4\n",
      "****\n",
      "Test case  0 Passed\n",
      "Test case  1 Passed\n",
      "Test case  2 Passed\n",
      "Test case  3 Passed\n"
     ]
    },
    {
     "ename": "IndexError",
     "evalue": "list index out of range",
     "output_type": "error",
     "traceback": [
      "\u001b[1;31m---------------------------------------------------------------------------\u001b[0m",
      "\u001b[1;31mIndexError\u001b[0m                                Traceback (most recent call last)",
      "\u001b[1;32m~\\AppData\\Local\\Temp\\ipykernel_13936\\1448413835.py\u001b[0m in \u001b[0;36m<module>\u001b[1;34m\u001b[0m\n\u001b[0;32m     10\u001b[0m             \u001b[0mprint\u001b[0m\u001b[1;33m(\u001b[0m\u001b[1;34m'Test case '\u001b[0m\u001b[1;33m,\u001b[0m\u001b[0mi\u001b[0m\u001b[1;33m,\u001b[0m\u001b[1;34m'Passed'\u001b[0m\u001b[1;33m)\u001b[0m\u001b[1;33m\u001b[0m\u001b[1;33m\u001b[0m\u001b[0m\n\u001b[0;32m     11\u001b[0m \u001b[1;33m\u001b[0m\u001b[0m\n\u001b[1;32m---> 12\u001b[1;33m \u001b[0mevaluate_test\u001b[0m\u001b[1;33m(\u001b[0m\u001b[0mtests\u001b[0m\u001b[1;33m)\u001b[0m\u001b[1;33m\u001b[0m\u001b[1;33m\u001b[0m\u001b[0m\n\u001b[0m",
      "\u001b[1;32m~\\AppData\\Local\\Temp\\ipykernel_13936\\1448413835.py\u001b[0m in \u001b[0;36mevaluate_test\u001b[1;34m(tests)\u001b[0m\n\u001b[0;32m      5\u001b[0m \u001b[1;32mdef\u001b[0m \u001b[0mevaluate_test\u001b[0m\u001b[1;33m(\u001b[0m\u001b[0mtests\u001b[0m\u001b[1;33m)\u001b[0m\u001b[1;33m:\u001b[0m\u001b[1;33m\u001b[0m\u001b[1;33m\u001b[0m\u001b[0m\n\u001b[0;32m      6\u001b[0m     \u001b[1;32mfor\u001b[0m \u001b[0mi\u001b[0m \u001b[1;32min\u001b[0m \u001b[0mrange\u001b[0m\u001b[1;33m(\u001b[0m\u001b[0mlen\u001b[0m\u001b[1;33m(\u001b[0m\u001b[0mtests\u001b[0m\u001b[1;33m)\u001b[0m\u001b[1;33m)\u001b[0m\u001b[1;33m:\u001b[0m\u001b[1;33m\u001b[0m\u001b[1;33m\u001b[0m\u001b[0m\n\u001b[1;32m----> 7\u001b[1;33m         \u001b[0mresult\u001b[0m \u001b[1;33m=\u001b[0m \u001b[0mfind_card\u001b[0m\u001b[1;33m(\u001b[0m\u001b[1;33m**\u001b[0m\u001b[0mtests\u001b[0m\u001b[1;33m[\u001b[0m\u001b[0mi\u001b[0m\u001b[1;33m]\u001b[0m\u001b[1;33m[\u001b[0m\u001b[1;34m'input'\u001b[0m\u001b[1;33m]\u001b[0m\u001b[1;33m)\u001b[0m\u001b[1;33m\u001b[0m\u001b[1;33m\u001b[0m\u001b[0m\n\u001b[0m\u001b[0;32m      8\u001b[0m \u001b[1;33m\u001b[0m\u001b[0m\n\u001b[0;32m      9\u001b[0m         \u001b[1;32mif\u001b[0m \u001b[0mresult\u001b[0m \u001b[1;33m==\u001b[0m \u001b[0mtests\u001b[0m\u001b[1;33m[\u001b[0m\u001b[0mi\u001b[0m\u001b[1;33m]\u001b[0m\u001b[1;33m[\u001b[0m\u001b[1;34m'output'\u001b[0m\u001b[1;33m]\u001b[0m\u001b[1;33m:\u001b[0m\u001b[1;33m\u001b[0m\u001b[1;33m\u001b[0m\u001b[0m\n",
      "\u001b[1;32m~\\AppData\\Local\\Temp\\ipykernel_13936\\3087038211.py\u001b[0m in \u001b[0;36mfind_card\u001b[1;34m(cards, num)\u001b[0m\n\u001b[0;32m      5\u001b[0m \u001b[1;33m\u001b[0m\u001b[0m\n\u001b[0;32m      6\u001b[0m     \u001b[1;32mwhile\u001b[0m \u001b[1;32mTrue\u001b[0m\u001b[1;33m:\u001b[0m\u001b[1;33m\u001b[0m\u001b[1;33m\u001b[0m\u001b[0m\n\u001b[1;32m----> 7\u001b[1;33m         \u001b[1;32mif\u001b[0m \u001b[0mcards\u001b[0m\u001b[1;33m[\u001b[0m\u001b[0mpos\u001b[0m\u001b[1;33m]\u001b[0m \u001b[1;33m==\u001b[0m \u001b[0mnum\u001b[0m\u001b[1;33m:\u001b[0m\u001b[1;33m\u001b[0m\u001b[1;33m\u001b[0m\u001b[0m\n\u001b[0m\u001b[0;32m      8\u001b[0m             \u001b[1;32mreturn\u001b[0m \u001b[0mpos\u001b[0m\u001b[1;33m\u001b[0m\u001b[1;33m\u001b[0m\u001b[0m\n\u001b[0;32m      9\u001b[0m \u001b[1;33m\u001b[0m\u001b[0m\n",
      "\u001b[1;31mIndexError\u001b[0m: list index out of range"
     ]
    }
   ],
   "source": [
    "def evaluate_test(tests):\n",
    "    for i in range(len(tests)):\n",
    "        result = find_card(**tests[i]['input'])\n",
    "\n",
    "        if result == tests[i]['output']:\n",
    "            print('Test case ',i,'Passed')\n",
    "\n",
    "evaluate_test(tests)\n"
   ]
  },
  {
   "cell_type": "markdown",
   "metadata": {},
   "source": [
    "We got an error in the 4th test case as index out of range.\n",
    "\n",
    "Since we don't have any number in the list and we are trying to access the element in 0th position we are getting this error.\n",
    "\n",
    "We need to provide a certain condition in the function so that it does not excute if cards[pos] == num when there are no cards in the list.\n",
    "\n",
    "We will add a condition to run the loop only when the cards number is equal or more than 0"
   ]
  },
  {
   "cell_type": "code",
   "execution_count": 52,
   "metadata": {},
   "outputs": [],
   "source": [
    "def find_card(cards,num):\n",
    "    pos=0\n",
    "\n",
    "    while pos<len(cards):\n",
    "        if cards[pos] == num:\n",
    "            return pos\n",
    "        \n",
    "        pos+=1\n",
    "\n",
    "        if pos==len(cards):\n",
    "            return -1"
   ]
  },
  {
   "cell_type": "markdown",
   "metadata": {},
   "source": [
    "Lets try to run the test cases again with the modified code and check if all test cases are passed."
   ]
  },
  {
   "cell_type": "code",
   "execution_count": 53,
   "metadata": {},
   "outputs": [
    {
     "name": "stdout",
     "output_type": "stream",
     "text": [
      "Test case  0 Passed\n",
      "Test case  1 Passed\n",
      "Test case  2 Passed\n",
      "Test case  3 Passed\n",
      "Test case  5 Passed\n",
      "Test case  6 Passed\n",
      "Test case  7 Passed\n",
      "Test case  8 Passed\n"
     ]
    }
   ],
   "source": [
    "evaluate_test(tests)"
   ]
  }
 ],
 "metadata": {
  "interpreter": {
   "hash": "767cbb24d09e3de4814983379e18690cf7a73372ae9eec1cb24ba803ecec81da"
  },
  "kernelspec": {
   "display_name": "Python 3.7.3 32-bit",
   "language": "python",
   "name": "python3"
  },
  "language_info": {
   "codemirror_mode": {
    "name": "ipython",
    "version": 3
   },
   "file_extension": ".py",
   "mimetype": "text/x-python",
   "name": "python",
   "nbconvert_exporter": "python",
   "pygments_lexer": "ipython3",
   "version": "3.7.3"
  },
  "orig_nbformat": 4
 },
 "nbformat": 4,
 "nbformat_minor": 2
}
