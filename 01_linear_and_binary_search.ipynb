{
 "cells": [
  {
   "cell_type": "markdown",
   "metadata": {},
   "source": [
    "# Linear search and Binary search\n",
    "\n",
    "## Problem statement\n",
    "Alice has some cards with numbers written on them. She arranges the cards in decreasing order, and lays them out face down in a sequence on a table. She challenges Bob to pick out the card containing a given number by turning over as few cards as possible. Write a function to help Bob locate the card.\n",
    "\n",
    "## Search algorithms\n",
    "In this notebook we will look at only linear search and binary search algorithms. However the ideal solution for this problem can be solved using binary search but for comparison we will also implement linear search which is the most basic search algorithm\n",
    "\n",
    "- *Linear search* is a sequential search algorithm that starts at one end and goes through each element of a list until the desired element is found, otherwise the search continues till the end of the data set.\n",
    "    - Example: If there are 5 cards [8,6,4,2,1] and we want to search for ```2``` here. Then we will start from the left checking each element if it's equal to 2, if not we will move to next element and we will continue till the end of list until we find 2.\n",
    "- *Binary search* is a searching algorithm used in a sorted array by repeatedly dividing the search interval in half. The idea of binary search is to use the information that the array is sorted and reduce the time complexity.\n",
    "    - Example: If there are 5 cards [8,6,4,2,1] and we want to search for ```2``` here. First we will make sure the list is sorted either in decreasing or increasing order, then we will find the mid position and check if the element in the mid position is 2 if not we will chcek if the mid number is higher or lower than 2 then will move to right (since 4 is greater than 2 and our list is sorted in decreasing order). we will repeat the process until we find 2.\n",
    "\n",
    "## Complexity and Big O notation\n",
    "*Complexity* of an algorithm is a measure of the amount of time and/or space required by an algorithm for an input of a given size e.g. N. Unless otherwise stated, the term complexity always refers to the worst-case complexity.\n",
    "\n",
    "Worst-case complexity is often expressed using the *Big O notation*. In the Big O, we drop fixed constants and lower powers of variables to capture the trend of relationship between the size of the input and the complexity of the algorithm i.e. if the complexity of the algorithm is cN^3 + dN^2 + eN + f, in the Big O notation it is expressed as O(N^3)\n",
    "\n",
    "## Methods to apprach the problem\n",
    "- State the problem clearly. Identify the input & output formats.\n",
    "- Come up with some example inputs & outputs. Try to cover all edge cases.\n",
    "- Come up with a correct solution for the problem. State it in plain English.\n",
    "- Implement the solution and test it using example inputs. Fix bugs, if any.\n",
    "- Analyze the algorithm's complexity and identify inefficiencies, if any.\n",
    "- Apply the right technique to overcome the inefficiency. Repeat steps 3 to 6.\n"
   ]
  },
  {
   "cell_type": "markdown",
   "metadata": {},
   "source": [
    "### 1. State the problem clearly. Identify the input & output formats.\n",
    "From the problem statement we understand that Alice has some cards so cards must have some numbers and it's also arranged in decreasing order. Here Bob has to pick out a card and check if it is the desired card if not he has to keep looking for it so we can consider this as accessing the value of number at the corresponding position in the list. They have also not mentioned if all cards will be unique so we have to take into consideration that there may be duplicate cards.\n",
    "\n",
    "So from above deductions we can rewrite our problem statement as below:\n",
    "\n",
    "We need to write a program to find the position of a given number in a list of numbers arranged in decreasing order. We also need to minimize the number of times we access elements from the list."
   ]
  },
  {
   "cell_type": "markdown",
   "metadata": {},
   "source": [
    "### 2. Come up with some example inputs & outputs. Try to cover all edge cases.\n",
    "we have to create all the possible test cases we can think of to develop an efficient solution of the problem so we will first list out all the cases.\n",
    "1. The number query occurs somewhere in the middle of the list cards.\n",
    "2. query is the first element in cards.\n",
    "3. query is the last element in cards.\n",
    "4. The list cards contains just one element, which is query.\n",
    "5. The list cards does not contain number query.\n",
    "6. The list cards is empty.\n",
    "7. The list cards contains repeating numbers.\n",
    "8. The number query occurs at more than one position in cards.\n",
    "\n",
    "We will create all the above test cases and store each test case in a dictionary and will store all the testcases into a list for easier access."
   ]
  },
  {
   "cell_type": "code",
   "execution_count": 50,
   "metadata": {},
   "outputs": [],
   "source": [
    "# creating an empty dictionary\n",
    "tests = []"
   ]
  },
  {
   "cell_type": "code",
   "execution_count": 51,
   "metadata": {},
   "outputs": [],
   "source": [
    "# query occurs somewhere in the middle\n",
    "tests.append({\n",
    "    'input': {\n",
    "        'cards': [13,10,9,7,5,4,3,2],\n",
    "        'query': 7\n",
    "    },\n",
    "    'output': 3\n",
    "})"
   ]
  },
  {
   "cell_type": "code",
   "execution_count": 52,
   "metadata": {},
   "outputs": [],
   "source": [
    "# query is the first element in cards\n",
    "tests.append({\n",
    "    'input': {\n",
    "        'cards': [13,10,9,7,5,4,3,2],\n",
    "        'query': 13\n",
    "    },\n",
    "    'output': 0\n",
    "})"
   ]
  },
  {
   "cell_type": "code",
   "execution_count": 53,
   "metadata": {},
   "outputs": [],
   "source": [
    "# query is the last element in cards\n",
    "tests.append({\n",
    "    'input': {\n",
    "        'cards': [13,10,9,7,5,4,3,2],\n",
    "        'query': 2\n",
    "    },\n",
    "    'output': 7\n",
    "})"
   ]
  },
  {
   "cell_type": "code",
   "execution_count": 54,
   "metadata": {},
   "outputs": [],
   "source": [
    "# The list cards contains just one element, which is query\n",
    "tests.append({\n",
    "    'input': {\n",
    "        'cards': [2],\n",
    "        'query': 2\n",
    "    },\n",
    "    'output': 0\n",
    "})"
   ]
  },
  {
   "cell_type": "code",
   "execution_count": 55,
   "metadata": {},
   "outputs": [],
   "source": [
    "# The list cards does not contain number query\n",
    "tests.append({\n",
    "    'input': {\n",
    "        'cards': [13,10,9,7,5,4,3,2],\n",
    "        'query': 6\n",
    "    },\n",
    "    'output': -1\n",
    "})"
   ]
  },
  {
   "cell_type": "code",
   "execution_count": 56,
   "metadata": {},
   "outputs": [],
   "source": [
    "# The list cards is empty\n",
    "tests.append({\n",
    "    'input': {\n",
    "        'cards': [],\n",
    "        'query': 6\n",
    "    },\n",
    "    'output': -1\n",
    "})"
   ]
  },
  {
   "cell_type": "code",
   "execution_count": 57,
   "metadata": {},
   "outputs": [],
   "source": [
    "# The list cards contains repeating numbers\n",
    "tests.append({\n",
    "    'input': {\n",
    "        'cards': [13,10,7,7,7,5,3,2],\n",
    "        'query': 5\n",
    "    },\n",
    "    'output': 5\n",
    "})"
   ]
  },
  {
   "cell_type": "code",
   "execution_count": 58,
   "metadata": {},
   "outputs": [],
   "source": [
    "# The number query occurs at more than one position in cards\n",
    "tests.append({\n",
    "    'input': {\n",
    "        'cards': [13,10,7,7,7,7,3,2],\n",
    "        'query': 7\n",
    "    },\n",
    "    'output': 2\n",
    "})"
   ]
  },
  {
   "cell_type": "markdown",
   "metadata": {},
   "source": [
    "So we have prepared all the test cases we can think of, now we will develop our searching algorithm and test on these cases to optimise our algorithm"
   ]
  },
  {
   "cell_type": "code",
   "execution_count": 59,
   "metadata": {},
   "outputs": [
    {
     "data": {
      "text/plain": [
       "[{'input': {'cards': [13, 10, 9, 7, 5, 4, 3, 2], 'query': 7}, 'output': 3},\n",
       " {'input': {'cards': [13, 10, 9, 7, 5, 4, 3, 2], 'query': 13}, 'output': 0},\n",
       " {'input': {'cards': [13, 10, 9, 7, 5, 4, 3, 2], 'query': 2}, 'output': 7},\n",
       " {'input': {'cards': [2], 'query': 2}, 'output': 0},\n",
       " {'input': {'cards': [13, 10, 9, 7, 5, 4, 3, 2], 'query': 6}, 'output': -1},\n",
       " {'input': {'cards': [], 'query': 6}, 'output': -1},\n",
       " {'input': {'cards': [13, 10, 7, 7, 7, 5, 3, 2], 'query': 5}, 'output': 5},\n",
       " {'input': {'cards': [13, 10, 7, 7, 7, 7, 3, 2], 'query': 7}, 'output': 2}]"
      ]
     },
     "execution_count": 59,
     "metadata": {},
     "output_type": "execute_result"
    }
   ],
   "source": [
    "tests"
   ]
  },
  {
   "cell_type": "markdown",
   "metadata": {},
   "source": [
    "### 3. Come up with a correct solution for the problem\n",
    "So our first goal will be to come up with a correct solution which may not be the most efficient onces but we want to at least get the result roughly. one such method we can implement using brute force which will check for all the elements in the list and give tells us when it finds the number which is same as the linear search algorithm.\n",
    "\n",
    "- we will create a variable postion which we initialise as 0\n",
    "- then wiil check if the value at position 0 equals our query\n",
    "- if yes then than position will be our answer\n",
    "- and if not then we will increase the values of postion by 1\n",
    "- and if we can't find the query at all then we will return -1\n",
    "\n",
    "We have defined our pseudocode for our problem and now we will create a function that takes the cards and query as parameter and will return output(position of the query)"
   ]
  },
  {
   "cell_type": "code",
   "execution_count": 60,
   "metadata": {},
   "outputs": [],
   "source": [
    "def locate_card_linear(cards, query):\n",
    "    \n",
    "    position = 0\n",
    "\n",
    "    while position < len(cards):\n",
    "        if cards[position]== query:\n",
    "            return position\n",
    "        else:\n",
    "            position += 1\n",
    "    \n",
    "    return -1"
   ]
  },
  {
   "cell_type": "markdown",
   "metadata": {},
   "source": [
    "Let's first just test it for the first test case if our implementation is correct or not. So we will pick one test cases out and store it in test then will see if the returned values is same as the output of the test case"
   ]
  },
  {
   "cell_type": "code",
   "execution_count": 61,
   "metadata": {},
   "outputs": [
    {
     "data": {
      "text/plain": [
       "{'input': {'cards': [13, 10, 9, 7, 5, 4, 3, 2], 'query': 7}, 'output': 3}"
      ]
     },
     "execution_count": 61,
     "metadata": {},
     "output_type": "execute_result"
    }
   ],
   "source": [
    "test = tests[0]\n",
    "test"
   ]
  },
  {
   "cell_type": "code",
   "execution_count": 62,
   "metadata": {},
   "outputs": [
    {
     "data": {
      "text/plain": [
       "True"
      ]
     },
     "execution_count": 62,
     "metadata": {},
     "output_type": "execute_result"
    }
   ],
   "source": [
    "pos = locate_card_linear(test['input']['cards'],test['input']['query'])\n",
    "pos == test['output']"
   ]
  },
  {
   "cell_type": "markdown",
   "metadata": {},
   "source": [
    "So from above we can say that our algorithm works fine for the first test cases now we will test it against other test cases and see how it perform.\n",
    "\n",
    "But before that we will write a function that will print out the pass or fail for each test cases instead of checking each test case individually by calling the locate_card_linear function again and again."
   ]
  },
  {
   "cell_type": "code",
   "execution_count": 83,
   "metadata": {},
   "outputs": [],
   "source": [
    "def evaluate_test_cases(locate_card, tests):\n",
    "\n",
    "    case_num = 0\n",
    "\n",
    "    while case_num< len(tests):\n",
    "\n",
    "        test = tests[case_num]\n",
    "\n",
    "        out = locate_card(test['input']['cards'], test['input']['query'])\n",
    "\n",
    "        if out == test['output']:\n",
    "            print(f'{case_num} : PASS')\n",
    "            print('cards :',test['input']['cards'],'\\t query :',test['input']['query'])\n",
    "            print('Expected output: ', test['output'], '\\t Actual output: ', out)\n",
    "        else:\n",
    "            print(f'{case_num} : FAIL')\n",
    "            print('cards :',test['input']['cards'],'\\t query :',test['input']['query'])\n",
    "            print('Expected output: ', test['output'], '\\t Actual output: ', out)\n",
    "        \n",
    "        case_num +=1\n"
   ]
  },
  {
   "cell_type": "markdown",
   "metadata": {},
   "source": [
    "Now let's test our linear search algorithm on all of our cases and let's see how many cases are passed."
   ]
  },
  {
   "cell_type": "code",
   "execution_count": 84,
   "metadata": {},
   "outputs": [
    {
     "name": "stdout",
     "output_type": "stream",
     "text": [
      "0 : PASS\n",
      "cards : [13, 10, 9, 7, 5, 4, 3, 2] \t query : 7\n",
      "Expected output:  3 \t Actual output:  3\n",
      "1 : PASS\n",
      "cards : [13, 10, 9, 7, 5, 4, 3, 2] \t query : 13\n",
      "Expected output:  0 \t Actual output:  0\n",
      "2 : PASS\n",
      "cards : [13, 10, 9, 7, 5, 4, 3, 2] \t query : 2\n",
      "Expected output:  7 \t Actual output:  7\n",
      "3 : PASS\n",
      "cards : [2] \t query : 2\n",
      "Expected output:  0 \t Actual output:  0\n",
      "4 : PASS\n",
      "cards : [13, 10, 9, 7, 5, 4, 3, 2] \t query : 6\n",
      "Expected output:  -1 \t Actual output:  -1\n",
      "5 : PASS\n",
      "cards : [] \t query : 6\n",
      "Expected output:  -1 \t Actual output:  -1\n",
      "6 : PASS\n",
      "cards : [13, 10, 7, 7, 7, 5, 3, 2] \t query : 5\n",
      "Expected output:  5 \t Actual output:  5\n",
      "7 : PASS\n",
      "cards : [13, 10, 7, 7, 7, 7, 3, 2] \t query : 7\n",
      "Expected output:  2 \t Actual output:  2\n"
     ]
    }
   ],
   "source": [
    "evaluate_test_cases(locate_card_linear, tests)"
   ]
  },
  {
   "cell_type": "markdown",
   "metadata": {},
   "source": [
    "So from above observation we see that all the test cases are pass that means our linear search alogrithm works fine provided any case but is it efficient enough as per our problem description where we have to resuce the number of drawing the card. We can evaluate our model based on the time complexity and space complexity.\n",
    "\n"
   ]
  }
 ],
 "metadata": {
  "kernelspec": {
   "display_name": "Python 3.10.4 64-bit",
   "language": "python",
   "name": "python3"
  },
  "language_info": {
   "codemirror_mode": {
    "name": "ipython",
    "version": 3
   },
   "file_extension": ".py",
   "mimetype": "text/x-python",
   "name": "python",
   "nbconvert_exporter": "python",
   "pygments_lexer": "ipython3",
   "version": "3.10.4"
  },
  "orig_nbformat": 4,
  "vscode": {
   "interpreter": {
    "hash": "65d795dd6c2354445d08762cd302ee7a431d595327b303b63df7407dcd8b184f"
   }
  }
 },
 "nbformat": 4,
 "nbformat_minor": 2
}
