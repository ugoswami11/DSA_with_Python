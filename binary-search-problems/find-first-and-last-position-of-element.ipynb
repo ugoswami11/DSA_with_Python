{
 "cells": [
  {
   "cell_type": "markdown",
   "metadata": {},
   "source": [
    "# Problem statement: Find First and Last Position of Element in Sorted Array\n",
    "Given an array of integers nums sorted in non-decreasing order, find the starting and ending position of a given target value.\n",
    "\n",
    "If target is not found in the array, return [-1, -1].\n",
    "\n",
    "You must write an algorithm with O(log n) runtime complexity.\n",
    "\n",
    "# About the Problem\n",
    "The problem is for practicing binary search algorithm and is taken from leetcode and you can check out the problem [here](https://leetcode.com/problems/find-first-and-last-position-of-element-in-sorted-array/)"
   ]
  },
  {
   "cell_type": "markdown",
   "metadata": {},
   "source": [
    "## Understanding the problem\n",
    "The problem states that array of integers is already sorted in ascendinig order and we have to find the position of the target element when it first occured from the left side first and then from the right side.\n",
    "\n",
    "- perform binary search on the sorted array to locate first occurence of target from left side\n",
    "- perform binary search on the sorted array to locate first occurence of target from the right side\n",
    "- combine both result into a list"
   ]
  },
  {
   "cell_type": "markdown",
   "metadata": {},
   "source": [
    "Let's first prepare a sample test cases to test our approach is correct or not. herer we are not covering all the edge cases we can test our solution on the this [link](https://leetcode.com/problems/find-first-and-last-position-of-element-in-sorted-array/) for the edge cases."
   ]
  },
  {
   "cell_type": "code",
   "execution_count": 32,
   "metadata": {},
   "outputs": [],
   "source": [
    "test1 = {\n",
    "    'input': {\n",
    "        'nums': [5,7,7,8,8,10],\n",
    "        'target': 8\n",
    "    },\n",
    "    'output': [3,4]\n",
    "}\n",
    "\n",
    "test2 ={\n",
    "    'input': {\n",
    "        'nums': [5,7,7,8,8,10],\n",
    "        'target': 6\n",
    "    },\n",
    "    'output': [-1,-1]\n",
    "}\n",
    "\n",
    "test3 = {\n",
    "    'input': {\n",
    "        'nums': [],\n",
    "        'target': 0\n",
    "    },\n",
    "    'output': [-1,-1]\n",
    "}"
   ]
  },
  {
   "cell_type": "markdown",
   "metadata": {},
   "source": [
    "Then we will create a function that will find the position of the target when it first occured from the left side and return the result"
   ]
  },
  {
   "cell_type": "code",
   "execution_count": 33,
   "metadata": {},
   "outputs": [],
   "source": [
    "def locate_first_element(nums, target):\n",
    "\n",
    "    high = len(nums) - 1\n",
    "    low = 0\n",
    "\n",
    "    while low<=high:\n",
    "        mid = (high+low)//2\n",
    "\n",
    "        if nums[mid] == target:\n",
    "            # return mid\n",
    "            if nums[mid-1] == target and mid>0:\n",
    "                high = mid-1\n",
    "            else:\n",
    "                return mid\n",
    "        elif nums[mid] > target:\n",
    "            high = mid-1\n",
    "        else:\n",
    "            low = mid+1\n",
    "    return -1"
   ]
  },
  {
   "cell_type": "markdown",
   "metadata": {},
   "source": [
    "Let's test out the result for first test case and chcek if we get the correct result"
   ]
  },
  {
   "cell_type": "code",
   "execution_count": 34,
   "metadata": {},
   "outputs": [
    {
     "data": {
      "text/plain": [
       "3"
      ]
     },
     "execution_count": 34,
     "metadata": {},
     "output_type": "execute_result"
    }
   ],
   "source": [
    "locate_first_element(test1['input']['nums'], test1['input']['target'])"
   ]
  },
  {
   "cell_type": "markdown",
   "metadata": {},
   "source": [
    "Similarly we will create another function that will find the position of the target when it first occured from the right side and return the result"
   ]
  },
  {
   "cell_type": "code",
   "execution_count": 35,
   "metadata": {},
   "outputs": [],
   "source": [
    "def locate_last_element(nums, target):\n",
    "    high = len(nums) - 1\n",
    "    low = 0\n",
    "\n",
    "    while low<=high:\n",
    "        mid = (high+low)//2\n",
    "\n",
    "        if nums[mid] == target:\n",
    "            # return mid\n",
    "            if nums[mid+1] == target and mid<len(nums)-1:\n",
    "                low = mid+1\n",
    "            else:\n",
    "                return mid\n",
    "        elif nums[mid] > target:\n",
    "            high = mid-1\n",
    "        else:\n",
    "            low = mid+1\n",
    "    return -1"
   ]
  },
  {
   "cell_type": "markdown",
   "metadata": {},
   "source": [
    "We will test out the result for first test case and check if we get the correct result"
   ]
  },
  {
   "cell_type": "code",
   "execution_count": 36,
   "metadata": {},
   "outputs": [
    {
     "data": {
      "text/plain": [
       "4"
      ]
     },
     "execution_count": 36,
     "metadata": {},
     "output_type": "execute_result"
    }
   ],
   "source": [
    "locate_last_element(test1['input']['nums'], test1['input']['target'])"
   ]
  },
  {
   "cell_type": "markdown",
   "metadata": {},
   "source": [
    "Now let's combine our both function and test on all the cases."
   ]
  },
  {
   "cell_type": "code",
   "execution_count": 37,
   "metadata": {},
   "outputs": [],
   "source": [
    "def solution(nums, target, locate_first_element, locate_last_element):\n",
    "    \n",
    "    first_pos = locate_first_element(nums, target)\n",
    "    last_pos = locate_last_element(nums, target)\n",
    "\n",
    "    result = [first_pos, last_pos]\n",
    "    return result\n"
   ]
  },
  {
   "cell_type": "code",
   "execution_count": 38,
   "metadata": {},
   "outputs": [
    {
     "data": {
      "text/plain": [
       "[3, 4]"
      ]
     },
     "execution_count": 38,
     "metadata": {},
     "output_type": "execute_result"
    }
   ],
   "source": [
    "solution(test1['input']['nums'], test1['input']['target'], locate_first_element, locate_last_element)"
   ]
  },
  {
   "cell_type": "code",
   "execution_count": 39,
   "metadata": {},
   "outputs": [
    {
     "data": {
      "text/plain": [
       "[-1, -1]"
      ]
     },
     "execution_count": 39,
     "metadata": {},
     "output_type": "execute_result"
    }
   ],
   "source": [
    "solution(test2['input']['nums'], test2['input']['target'], locate_first_element, locate_last_element)"
   ]
  },
  {
   "cell_type": "code",
   "execution_count": 40,
   "metadata": {},
   "outputs": [
    {
     "data": {
      "text/plain": [
       "[-1, -1]"
      ]
     },
     "execution_count": 40,
     "metadata": {},
     "output_type": "execute_result"
    }
   ],
   "source": [
    "solution(test3['input']['nums'], test3['input']['target'], locate_first_element, locate_last_element)"
   ]
  }
 ],
 "metadata": {
  "kernelspec": {
   "display_name": "Python 3.10.4 64-bit",
   "language": "python",
   "name": "python3"
  },
  "language_info": {
   "codemirror_mode": {
    "name": "ipython",
    "version": 3
   },
   "file_extension": ".py",
   "mimetype": "text/x-python",
   "name": "python",
   "nbconvert_exporter": "python",
   "pygments_lexer": "ipython3",
   "version": "3.10.4"
  },
  "orig_nbformat": 4,
  "vscode": {
   "interpreter": {
    "hash": "65d795dd6c2354445d08762cd302ee7a431d595327b303b63df7407dcd8b184f"
   }
  }
 },
 "nbformat": 4,
 "nbformat_minor": 2
}
